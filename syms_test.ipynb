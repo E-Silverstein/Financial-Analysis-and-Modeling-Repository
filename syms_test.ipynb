{
 "cells": [
  {
   "cell_type": "code",
   "execution_count": 31,
   "metadata": {
    "collapsed": true
   },
   "outputs": [],
   "source": [
    "import pandas as pd\n",
    "import numpy as np\n",
    "import matplotlib.pyplot as plt"
   ]
  },
  {
   "cell_type": "code",
   "execution_count": 2,
   "outputs": [],
   "source": [
    "data = pd.read_csv(\"symbols_and_ratios.csv\")"
   ],
   "metadata": {
    "collapsed": false
   }
  },
  {
   "cell_type": "code",
   "execution_count": 3,
   "outputs": [
    {
     "data": {
      "text/plain": "     Unnamed: 0 Symbols      Ratio\n0             0     AAL  10.647574\n1             1    AAME   5.762367\n2             2    AAOI  -4.972185\n3             3    AAON   0.651013\n4             4    AAPL   1.014854\n..          ...     ...        ...\n194         194    APLS  -0.218687\n195         195    APOG   1.322432\n196         196    APOP        NaN\n197         197   APOPW        NaN\n198         198    APPF  -2.572562\n\n[199 rows x 3 columns]",
      "text/html": "<div>\n<style scoped>\n    .dataframe tbody tr th:only-of-type {\n        vertical-align: middle;\n    }\n\n    .dataframe tbody tr th {\n        vertical-align: top;\n    }\n\n    .dataframe thead th {\n        text-align: right;\n    }\n</style>\n<table border=\"1\" class=\"dataframe\">\n  <thead>\n    <tr style=\"text-align: right;\">\n      <th></th>\n      <th>Unnamed: 0</th>\n      <th>Symbols</th>\n      <th>Ratio</th>\n    </tr>\n  </thead>\n  <tbody>\n    <tr>\n      <th>0</th>\n      <td>0</td>\n      <td>AAL</td>\n      <td>10.647574</td>\n    </tr>\n    <tr>\n      <th>1</th>\n      <td>1</td>\n      <td>AAME</td>\n      <td>5.762367</td>\n    </tr>\n    <tr>\n      <th>2</th>\n      <td>2</td>\n      <td>AAOI</td>\n      <td>-4.972185</td>\n    </tr>\n    <tr>\n      <th>3</th>\n      <td>3</td>\n      <td>AAON</td>\n      <td>0.651013</td>\n    </tr>\n    <tr>\n      <th>4</th>\n      <td>4</td>\n      <td>AAPL</td>\n      <td>1.014854</td>\n    </tr>\n    <tr>\n      <th>...</th>\n      <td>...</td>\n      <td>...</td>\n      <td>...</td>\n    </tr>\n    <tr>\n      <th>194</th>\n      <td>194</td>\n      <td>APLS</td>\n      <td>-0.218687</td>\n    </tr>\n    <tr>\n      <th>195</th>\n      <td>195</td>\n      <td>APOG</td>\n      <td>1.322432</td>\n    </tr>\n    <tr>\n      <th>196</th>\n      <td>196</td>\n      <td>APOP</td>\n      <td>NaN</td>\n    </tr>\n    <tr>\n      <th>197</th>\n      <td>197</td>\n      <td>APOPW</td>\n      <td>NaN</td>\n    </tr>\n    <tr>\n      <th>198</th>\n      <td>198</td>\n      <td>APPF</td>\n      <td>-2.572562</td>\n    </tr>\n  </tbody>\n</table>\n<p>199 rows × 3 columns</p>\n</div>"
     },
     "execution_count": 3,
     "metadata": {},
     "output_type": "execute_result"
    }
   ],
   "source": [
    "data"
   ],
   "metadata": {
    "collapsed": false
   }
  },
  {
   "cell_type": "code",
   "execution_count": 12,
   "outputs": [],
   "source": [
    "data = data.dropna()"
   ],
   "metadata": {
    "collapsed": false
   }
  },
  {
   "cell_type": "code",
   "execution_count": 18,
   "outputs": [],
   "source": [
    "data = data.iloc[:, 1:3]"
   ],
   "metadata": {
    "collapsed": false
   }
  },
  {
   "cell_type": "code",
   "execution_count": 19,
   "outputs": [
    {
     "data": {
      "text/plain": "    Symbols      Ratio\n0       AAL  10.647574\n1      AAME   5.762367\n2      AAOI  -4.972185\n3      AAON   0.651013\n4      AAPL   1.014854\n..      ...        ...\n192    APEI   4.413526\n193    APEN  -2.482275\n194    APLS  -0.218687\n195    APOG   1.322432\n198    APPF  -2.572562\n\n[115 rows x 2 columns]",
      "text/html": "<div>\n<style scoped>\n    .dataframe tbody tr th:only-of-type {\n        vertical-align: middle;\n    }\n\n    .dataframe tbody tr th {\n        vertical-align: top;\n    }\n\n    .dataframe thead th {\n        text-align: right;\n    }\n</style>\n<table border=\"1\" class=\"dataframe\">\n  <thead>\n    <tr style=\"text-align: right;\">\n      <th></th>\n      <th>Symbols</th>\n      <th>Ratio</th>\n    </tr>\n  </thead>\n  <tbody>\n    <tr>\n      <th>0</th>\n      <td>AAL</td>\n      <td>10.647574</td>\n    </tr>\n    <tr>\n      <th>1</th>\n      <td>AAME</td>\n      <td>5.762367</td>\n    </tr>\n    <tr>\n      <th>2</th>\n      <td>AAOI</td>\n      <td>-4.972185</td>\n    </tr>\n    <tr>\n      <th>3</th>\n      <td>AAON</td>\n      <td>0.651013</td>\n    </tr>\n    <tr>\n      <th>4</th>\n      <td>AAPL</td>\n      <td>1.014854</td>\n    </tr>\n    <tr>\n      <th>...</th>\n      <td>...</td>\n      <td>...</td>\n    </tr>\n    <tr>\n      <th>192</th>\n      <td>APEI</td>\n      <td>4.413526</td>\n    </tr>\n    <tr>\n      <th>193</th>\n      <td>APEN</td>\n      <td>-2.482275</td>\n    </tr>\n    <tr>\n      <th>194</th>\n      <td>APLS</td>\n      <td>-0.218687</td>\n    </tr>\n    <tr>\n      <th>195</th>\n      <td>APOG</td>\n      <td>1.322432</td>\n    </tr>\n    <tr>\n      <th>198</th>\n      <td>APPF</td>\n      <td>-2.572562</td>\n    </tr>\n  </tbody>\n</table>\n<p>115 rows × 2 columns</p>\n</div>"
     },
     "execution_count": 19,
     "metadata": {},
     "output_type": "execute_result"
    }
   ],
   "source": [
    "data"
   ],
   "metadata": {
    "collapsed": false
   }
  },
  {
   "cell_type": "code",
   "execution_count": 34,
   "outputs": [
    {
     "data": {
      "text/plain": "<Figure size 640x480 with 0 Axes>"
     },
     "metadata": {},
     "output_type": "display_data"
    }
   ],
   "source": [
    "plt.figure();"
   ],
   "metadata": {
    "collapsed": false
   }
  },
  {
   "cell_type": "code",
   "execution_count": 35,
   "outputs": [
    {
     "data": {
      "text/plain": "<AxesSubplot: >"
     },
     "execution_count": 35,
     "metadata": {},
     "output_type": "execute_result"
    },
    {
     "data": {
      "text/plain": "<Figure size 640x480 with 1 Axes>",
      "image/png": "[encoded data removed]"
     },
     "metadata": {},
     "output_type": "display_data"
    }
   ],
   "source": [
    "data.plot.box(vert = False)"
   ],
   "metadata": {
    "collapsed": false
   }
  },
  {
   "cell_type": "code",
   "execution_count": 36,
   "outputs": [
    {
     "name": "stderr",
     "output_type": "stream",
     "text": [
      "/var/folders/qj/_h9kj67n2h383xn7tp2376l40000gn/T/ipykernel_70015/531903386.py:1: FutureWarning: The default value of numeric_only in DataFrame.mean is deprecated. In a future version, it will default to False. In addition, specifying 'numeric_only=None' is deprecated. Select only valid columns or specify the value of numeric_only to silence this warning.\n",
      "  data.mean()\n"
     ]
    },
    {
     "data": {
      "text/plain": "Ratio    5.580198\ndtype: float64"
     },
     "execution_count": 36,
     "metadata": {},
     "output_type": "execute_result"
    }
   ],
   "source": [
    "data.mean()"
   ],
   "metadata": {
    "collapsed": false
   }
  },
  {
   "cell_type": "code",
   "execution_count": null,
   "outputs": [],
   "source": [],
   "metadata": {
    "collapsed": false
   }
  }
 ],
 "metadata": {
  "kernelspec": {
   "display_name": "Python 3",
   "language": "python",
   "name": "python3"
  },
  "language_info": {
   "codemirror_mode": {
    "name": "ipython",
    "version": 2
   },
   "file_extension": ".py",
   "mimetype": "text/x-python",
   "name": "python",
   "nbconvert_exporter": "python",
   "pygments_lexer": "ipython2",
   "version": "2.7.6"
  }
 },
 "nbformat": 4,
 "nbformat_minor": 0
}
