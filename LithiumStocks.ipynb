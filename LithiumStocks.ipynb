{
 "cells": [
  {
   "cell_type": "markdown",
   "metadata": {},
   "source": [
    "Look into correlations between commodities and especially lithium prices and lithium mining companies and consumers. "
   ]
  },
  {
   "cell_type": "code",
   "execution_count": 20,
   "metadata": {},
   "outputs": [],
   "source": [
    "#Imports\n",
    "import pandas as pd \n",
    "import numpy as np\n",
    "import matplotlib.pyplot as plt \n",
    "%matplotlib inline\n",
    "import pandas_datareader as web"
   ]
  },
  {
   "cell_type": "markdown",
   "metadata": {},
   "source": [
    "Companies are: \n",
    "    Mining Companies: \n",
    "        Albemarle(NYSE:ALB)\n",
    "        Livent(NYSE:LTHM)\n",
    "        Sociedad Química y Minera(NYSE:SQM)\n",
    "        FMC Corp(NYSE:FMC)\n",
    "        Lithium Americas (NYSE: LAC)\n",
    "    Battery Manufacturers: \n",
    "        Panasonic(OTC:PCRFY)\n",
    "        BYD(OTC:BYDDY)\n",
    "        LG Chem(KRX:051910)\n",
    "        Samsung SDI(KRX:006400)\n",
    "    EV Manufactuers:\n",
    "        Tesla(NASDAQ:TSLA)\n",
    "        Rivian(NASDAQ:RIVN)\n",
    "        Nio(NASDAQ:NIO)\n",
    "        Polestar(NASDAQ:PSNY)\n",
    "        Xpeng(NYSE:XPEV)"
   ]
  },
  {
   "cell_type": "code",
   "execution_count": 21,
   "metadata": {},
   "outputs": [],
   "source": [
    "start_date = '2021-01-01'\n",
    "end_date = '2022-10-31'\n",
    "mining_companies = [\"ALB\", \"LTHM\", \"SQM\", \"FMC\", \"LAC\"]\n",
    "battery_man = [\"PCRFY\", \"BYDDY\", \"051910.KS\", \"006400.KS\"]\n",
    "ev_man = [\"TSLA\", \"RIVN\", \"NIO\", \"PSNY\", \"XPEV\"]"
   ]
  },
  {
   "cell_type": "code",
   "execution_count": 22,
   "metadata": {},
   "outputs": [],
   "source": [
    "miningData = web.DataReader(mining_companies, 'yahoo', start= start_date, end= end_date)"
   ]
  },
  {
   "cell_type": "code",
   "execution_count": 23,
   "metadata": {},
   "outputs": [],
   "source": [
    "batteryData = web.DataReader(battery_man, 'yahoo', start= start_date, end= end_date)"
   ]
  },
  {
   "cell_type": "code",
   "execution_count": 24,
   "metadata": {},
   "outputs": [],
   "source": [
    "evData = web.DataReader(ev_man, 'yahoo', start= start_date, end= end_date)"
   ]
  },
  {
   "cell_type": "markdown",
   "metadata": {},
   "source": [
    "Clean up data to make it Adjusted Close"
   ]
  },
  {
   "cell_type": "code",
   "execution_count": 25,
   "metadata": {},
   "outputs": [
    {
     "data": {
      "text/html": [
       "<div>\n",
       "<style scoped>\n",
       "    .dataframe tbody tr th:only-of-type {\n",
       "        vertical-align: middle;\n",
       "    }\n",
       "\n",
       "    .dataframe tbody tr th {\n",
       "        vertical-align: top;\n",
       "    }\n",
       "\n",
       "    .dataframe thead th {\n",
       "        text-align: right;\n",
       "    }\n",
       "</style>\n",
       "<table border=\"1\" class=\"dataframe\">\n",
       "  <thead>\n",
       "    <tr style=\"text-align: right;\">\n",
       "      <th>Symbols</th>\n",
       "      <th>TSLA</th>\n",
       "      <th>RIVN</th>\n",
       "      <th>NIO</th>\n",
       "      <th>PSNY</th>\n",
       "      <th>XPEV</th>\n",
       "    </tr>\n",
       "    <tr>\n",
       "      <th>Date</th>\n",
       "      <th></th>\n",
       "      <th></th>\n",
       "      <th></th>\n",
       "      <th></th>\n",
       "      <th></th>\n",
       "    </tr>\n",
       "  </thead>\n",
       "  <tbody>\n",
       "    <tr>\n",
       "      <th>2021-11-10</th>\n",
       "      <td>355.983337</td>\n",
       "      <td>100.730003</td>\n",
       "      <td>39.549999</td>\n",
       "      <td>10.67</td>\n",
       "      <td>44.330002</td>\n",
       "    </tr>\n",
       "    <tr>\n",
       "      <th>2021-11-11</th>\n",
       "      <td>354.503326</td>\n",
       "      <td>122.989998</td>\n",
       "      <td>42.200001</td>\n",
       "      <td>11.06</td>\n",
       "      <td>47.580002</td>\n",
       "    </tr>\n",
       "    <tr>\n",
       "      <th>2021-11-12</th>\n",
       "      <td>344.473328</td>\n",
       "      <td>129.949997</td>\n",
       "      <td>42.669998</td>\n",
       "      <td>12.81</td>\n",
       "      <td>48.529999</td>\n",
       "    </tr>\n",
       "    <tr>\n",
       "      <th>2021-11-15</th>\n",
       "      <td>337.796661</td>\n",
       "      <td>149.360001</td>\n",
       "      <td>40.570000</td>\n",
       "      <td>14.78</td>\n",
       "      <td>47.500000</td>\n",
       "    </tr>\n",
       "    <tr>\n",
       "      <th>2021-11-16</th>\n",
       "      <td>351.576660</td>\n",
       "      <td>172.009995</td>\n",
       "      <td>40.669998</td>\n",
       "      <td>15.33</td>\n",
       "      <td>50.000000</td>\n",
       "    </tr>\n",
       "    <tr>\n",
       "      <th>...</th>\n",
       "      <td>...</td>\n",
       "      <td>...</td>\n",
       "      <td>...</td>\n",
       "      <td>...</td>\n",
       "      <td>...</td>\n",
       "    </tr>\n",
       "    <tr>\n",
       "      <th>2022-10-25</th>\n",
       "      <td>222.419998</td>\n",
       "      <td>34.490002</td>\n",
       "      <td>10.630000</td>\n",
       "      <td>4.58</td>\n",
       "      <td>7.940000</td>\n",
       "    </tr>\n",
       "    <tr>\n",
       "      <th>2022-10-26</th>\n",
       "      <td>224.639999</td>\n",
       "      <td>34.439999</td>\n",
       "      <td>10.810000</td>\n",
       "      <td>4.56</td>\n",
       "      <td>8.190000</td>\n",
       "    </tr>\n",
       "    <tr>\n",
       "      <th>2022-10-27</th>\n",
       "      <td>225.089996</td>\n",
       "      <td>34.500000</td>\n",
       "      <td>9.980000</td>\n",
       "      <td>4.19</td>\n",
       "      <td>7.360000</td>\n",
       "    </tr>\n",
       "    <tr>\n",
       "      <th>2022-10-28</th>\n",
       "      <td>228.520004</td>\n",
       "      <td>34.480000</td>\n",
       "      <td>9.690000</td>\n",
       "      <td>4.15</td>\n",
       "      <td>6.890000</td>\n",
       "    </tr>\n",
       "    <tr>\n",
       "      <th>2022-10-31</th>\n",
       "      <td>227.539993</td>\n",
       "      <td>34.970001</td>\n",
       "      <td>9.670000</td>\n",
       "      <td>4.46</td>\n",
       "      <td>6.620000</td>\n",
       "    </tr>\n",
       "  </tbody>\n",
       "</table>\n",
       "<p>245 rows × 5 columns</p>\n",
       "</div>"
      ],
      "text/plain": [
       "Symbols           TSLA        RIVN        NIO   PSNY       XPEV\n",
       "Date                                                           \n",
       "2021-11-10  355.983337  100.730003  39.549999  10.67  44.330002\n",
       "2021-11-11  354.503326  122.989998  42.200001  11.06  47.580002\n",
       "2021-11-12  344.473328  129.949997  42.669998  12.81  48.529999\n",
       "2021-11-15  337.796661  149.360001  40.570000  14.78  47.500000\n",
       "2021-11-16  351.576660  172.009995  40.669998  15.33  50.000000\n",
       "...                ...         ...        ...    ...        ...\n",
       "2022-10-25  222.419998   34.490002  10.630000   4.58   7.940000\n",
       "2022-10-26  224.639999   34.439999  10.810000   4.56   8.190000\n",
       "2022-10-27  225.089996   34.500000   9.980000   4.19   7.360000\n",
       "2022-10-28  228.520004   34.480000   9.690000   4.15   6.890000\n",
       "2022-10-31  227.539993   34.970001   9.670000   4.46   6.620000\n",
       "\n",
       "[245 rows x 5 columns]"
      ]
     },
     "execution_count": 25,
     "metadata": {},
     "output_type": "execute_result"
    }
   ],
   "source": [
    "miningData = miningData['Adj Close']\n",
    "batteryData = batteryData['Adj Close']\n",
    "evData = evData['Adj Close']"
   ]
  }
 ],
 "metadata": {
  "kernelspec": {
   "display_name": "Python 3.10.6 64-bit",
   "language": "python",
   "name": "python3"
  },
  "language_info": {
   "codemirror_mode": {
    "name": "ipython",
    "version": 3
   },
   "file_extension": ".py",
   "mimetype": "text/x-python",
   "name": "python",
   "nbconvert_exporter": "python",
   "pygments_lexer": "ipython3",
   "version": "3.10.6"
  },
  "orig_nbformat": 4,
  "vscode": {
   "interpreter": {
    "hash": "916dbcbb3f70747c44a77c7bcd40155683ae19c65e1c03b4aa3499c5328201f1"
   }
  }
 },
 "nbformat": 4,
 "nbformat_minor": 2
}
